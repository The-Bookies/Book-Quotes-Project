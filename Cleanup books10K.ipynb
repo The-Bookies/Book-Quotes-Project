{
 "cells": [
  {
   "cell_type": "code",
   "execution_count": 24,
   "metadata": {},
   "outputs": [],
   "source": [
    "#Importing modules we will use\n",
    "import pandas as pd\n"
   ]
  },
  {
   "cell_type": "code",
   "execution_count": 25,
   "metadata": {},
   "outputs": [],
   "source": [
    "#Reading the 10K Books database into a dataframe\n",
    "\n",
    "filepath = \"books.csv\"\n",
    "books10k_df = pd.read_csv(filepath)\n"
   ]
  },
  {
   "cell_type": "code",
   "execution_count": 28,
   "metadata": {},
   "outputs": [],
   "source": [
    "#Cleaning database, leaving only the following info: isbn, authors, original_publication_year, average_rating\n",
    "books10Kclean = books10k_df[[\"isbn\", \"title\",\"authors\",\"original_publication_year\",\"average_rating\"]]\n",
    "\n",
    "# books10Kclean.dropna()\n",
    "books10Kclean.to_csv(\"books10Kclean.csv\",index=False)\n"
   ]
  },
  {
   "cell_type": "code",
   "execution_count": null,
   "metadata": {},
   "outputs": [],
   "source": []
  }
 ],
 "metadata": {
  "kernelspec": {
   "display_name": "Python 3",
   "language": "python",
   "name": "python3"
  },
  "language_info": {
   "codemirror_mode": {
    "name": "ipython",
    "version": 3
   },
   "file_extension": ".py",
   "mimetype": "text/x-python",
   "name": "python",
   "nbconvert_exporter": "python",
   "pygments_lexer": "ipython3",
   "version": "3.7.0"
  }
 },
 "nbformat": 4,
 "nbformat_minor": 2
}
