{
 "cells": [
  {
   "cell_type": "code",
   "execution_count": 1,
   "metadata": {},
   "outputs": [],
   "source": [
    "#Importing modules we will use\n",
    "import pandas as pd\n"
   ]
  },
  {
   "cell_type": "code",
   "execution_count": 5,
   "metadata": {},
   "outputs": [],
   "source": [
    "#Reading the 10K Books database into a dataframe\n",
    "\n",
    "filepath = \"books.csv\"\n",
    "books10k_df = pd.read_csv(filepath)\n"
   ]
  },
  {
   "cell_type": "code",
   "execution_count": 23,
   "metadata": {},
   "outputs": [],
   "source": [
    "#Cleaning database, leaving only the following info: isbn, authors, original_publication_year, original tite, average_rating\n",
    "books10Kclean = books10k_df[[\"isbn\", \"title\",\"original_title\",\"authors\",\"original_publication_year\",\"average_rating\"]]\n",
    "\n",
    "#finding the books without any isbn and scrape the isbn from Amazon\n",
    "booksnoisb = books10Kclean[books10Kclean[\"isbn\"].isnull()]\n",
    "\n",
    "# books10Kclean.dropna()\n",
    "# books10Kclean.count()\n",
    "booksnoisb.to_csv(\"booksnoisbn.csv\")"
   ]
  },
  {
   "cell_type": "code",
   "execution_count": null,
   "metadata": {},
   "outputs": [],
   "source": []
  }
 ],
 "metadata": {
  "kernelspec": {
   "display_name": "Python 3",
   "language": "python",
   "name": "python3"
  },
  "language_info": {
   "codemirror_mode": {
    "name": "ipython",
    "version": 3
   },
   "file_extension": ".py",
   "mimetype": "text/x-python",
   "name": "python",
   "nbconvert_exporter": "python",
   "pygments_lexer": "ipython3",
   "version": "3.7.0"
  }
 },
 "nbformat": 4,
 "nbformat_minor": 2
}
