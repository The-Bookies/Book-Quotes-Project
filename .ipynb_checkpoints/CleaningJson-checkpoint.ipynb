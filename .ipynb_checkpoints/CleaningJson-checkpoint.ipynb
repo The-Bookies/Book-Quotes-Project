{
 "cells": [
  {
   "cell_type": "code",
   "execution_count": 1,
   "metadata": {},
   "outputs": [],
   "source": [
    "#Importing dependencies\n",
    "import pandas as pd\n",
    "import json\n"
   ]
  },
  {
   "cell_type": "code",
   "execution_count": null,
   "metadata": {},
   "outputs": [],
   "source": [
    "# reading json file\n",
    "\n",
    "filepath = \"most_popular_quotes.json\"\n",
    "quotes_df = pd.read_json(filepath)\n",
    "quotes_df.head()"
   ]
  },
  {
   "cell_type": "code",
   "execution_count": null,
   "metadata": {},
   "outputs": [],
   "source": [
    "#clean out the data\n",
    "\n",
    "quotesclean = quotes_df[[\"text\",\"author\",\"likes\"]]\n",
    "\n"
   ]
  },
  {
   "cell_type": "code",
   "execution_count": null,
   "metadata": {},
   "outputs": [],
   "source": [
    "#Clean the quotes\n",
    "\n",
    "#function for cleaning quotes from \"\" and \\n and spaces\n",
    "def cleanupquotes(quote):\n",
    "    quote1 = quote\n",
    "    quote2 =quote1.replace(\"\\n\",\"\")\n",
    "    quote3 = quote2.replace(\"“\",\"\")\n",
    "    quote4 = quote3.replace(\"”\",\"\")\n",
    "    quote5 = quote4.replace(\"  \",\"\")\n",
    "    return quote5\n",
    "\n",
    "#Cleaning up the quotes and placing them as text\n",
    "quotesclean[\"text\"] = quotesclean[\"text\"].apply(cleanupquotes)\n",
    "quotesclean.head()"
   ]
  },
  {
   "cell_type": "code",
   "execution_count": null,
   "metadata": {},
   "outputs": [],
   "source": [
    "#Organizes the quotes by number of likes in descending order\n",
    "quotesclean.sort_values(by=\"likes\",ascending = False)\n",
    "#keeps the most popular quote from each author\n",
    "quotesclean = quotesclean.drop_duplicates(\"author\",keep=\"first\")\n",
    "\n",
    "#Drops rows with any blanks (either quotes, authors or likes)\n",
    "quotesclean = quotesclean.dropna()\n"
   ]
  },
  {
   "cell_type": "code",
   "execution_count": null,
   "metadata": {},
   "outputs": [],
   "source": [
    "quotesclean.to_csv(\"quotesclean.csv\", index=False)"
   ]
  },
  {
   "cell_type": "code",
   "execution_count": null,
   "metadata": {},
   "outputs": [],
   "source": []
  }
 ],
 "metadata": {
  "kernelspec": {
   "display_name": "Python 3",
   "language": "python",
   "name": "python3"
  },
  "language_info": {
   "codemirror_mode": {
    "name": "ipython",
    "version": 3
   },
   "file_extension": ".py",
   "mimetype": "text/x-python",
   "name": "python",
   "nbconvert_exporter": "python",
   "pygments_lexer": "ipython3",
   "version": "3.7.0"
  }
 },
 "nbformat": 4,
 "nbformat_minor": 2
}
