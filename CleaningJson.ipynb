{
 "cells": [
  {
   "cell_type": "code",
   "execution_count": 1,
   "metadata": {},
   "outputs": [],
   "source": [
    "#Importing dependencies\n",
    "import pandas as pd\n",
    "import json\n"
   ]
  },
  {
   "cell_type": "code",
   "execution_count": 2,
   "metadata": {},
   "outputs": [
    {
     "data": {
      "text/html": [
       "<div>\n",
       "<style scoped>\n",
       "    .dataframe tbody tr th:only-of-type {\n",
       "        vertical-align: middle;\n",
       "    }\n",
       "\n",
       "    .dataframe tbody tr th {\n",
       "        vertical-align: top;\n",
       "    }\n",
       "\n",
       "    .dataframe thead th {\n",
       "        text-align: right;\n",
       "    }\n",
       "</style>\n",
       "<table border=\"1\" class=\"dataframe\">\n",
       "  <thead>\n",
       "    <tr style=\"text-align: right;\">\n",
       "      <th></th>\n",
       "      <th>author</th>\n",
       "      <th>likes</th>\n",
       "      <th>tags</th>\n",
       "      <th>text</th>\n",
       "    </tr>\n",
       "  </thead>\n",
       "  <tbody>\n",
       "    <tr>\n",
       "      <th>0</th>\n",
       "      <td>Dr. Seuss</td>\n",
       "      <td>174616 likes</td>\n",
       "      <td>[attributed-no-source, cry, crying, experience...</td>\n",
       "      <td>\\n      “Don't cry because it's over, smile be...</td>\n",
       "    </tr>\n",
       "    <tr>\n",
       "      <th>1</th>\n",
       "      <td>Marilyn Monroe</td>\n",
       "      <td>138415 likes</td>\n",
       "      <td>[attributed-no-source, best, life, love, mista...</td>\n",
       "      <td>\\n      “I'm selfish, impatient and a little i...</td>\n",
       "    </tr>\n",
       "    <tr>\n",
       "      <th>2</th>\n",
       "      <td>Oscar Wilde</td>\n",
       "      <td>130176 likes</td>\n",
       "      <td>[attributed-no-source, be-yourself, honesty, i...</td>\n",
       "      <td>\\n      “Be yourself; everyone else is already...</td>\n",
       "    </tr>\n",
       "    <tr>\n",
       "      <th>3</th>\n",
       "      <td>Albert Einstein</td>\n",
       "      <td>116961 likes</td>\n",
       "      <td>[attributed-no-source, human-nature, humor, in...</td>\n",
       "      <td>\\n      “Two things are infinite: the universe...</td>\n",
       "    </tr>\n",
       "    <tr>\n",
       "      <th>4</th>\n",
       "      <td>Bernard M. Baruch</td>\n",
       "      <td>111385 likes</td>\n",
       "      <td>[ataraxy, be-yourself, confidence, fitting-in,...</td>\n",
       "      <td>\\n      “Be who you are and say what you feel,...</td>\n",
       "    </tr>\n",
       "  </tbody>\n",
       "</table>\n",
       "</div>"
      ],
      "text/plain": [
       "              author         likes  \\\n",
       "0          Dr. Seuss  174616 likes   \n",
       "1     Marilyn Monroe  138415 likes   \n",
       "2        Oscar Wilde  130176 likes   \n",
       "3    Albert Einstein  116961 likes   \n",
       "4  Bernard M. Baruch  111385 likes   \n",
       "\n",
       "                                                tags  \\\n",
       "0  [attributed-no-source, cry, crying, experience...   \n",
       "1  [attributed-no-source, best, life, love, mista...   \n",
       "2  [attributed-no-source, be-yourself, honesty, i...   \n",
       "3  [attributed-no-source, human-nature, humor, in...   \n",
       "4  [ataraxy, be-yourself, confidence, fitting-in,...   \n",
       "\n",
       "                                                text  \n",
       "0  \\n      “Don't cry because it's over, smile be...  \n",
       "1  \\n      “I'm selfish, impatient and a little i...  \n",
       "2  \\n      “Be yourself; everyone else is already...  \n",
       "3  \\n      “Two things are infinite: the universe...  \n",
       "4  \\n      “Be who you are and say what you feel,...  "
      ]
     },
     "execution_count": 2,
     "metadata": {},
     "output_type": "execute_result"
    }
   ],
   "source": [
    "# reading json file\n",
    "\n",
    "filepath = \"most_popular_quotes.json\"\n",
    "quotes_df = pd.read_json(filepath)\n",
    "quotes_df.head()"
   ]
  },
  {
   "cell_type": "code",
   "execution_count": 3,
   "metadata": {},
   "outputs": [],
   "source": [
    "#clean out the data\n",
    "\n",
    "quotesclean = quotes_df[[\"text\",\"author\",\"likes\"]]\n",
    "\n"
   ]
  },
  {
   "cell_type": "code",
   "execution_count": 4,
   "metadata": {},
   "outputs": [
    {
     "name": "stderr",
     "output_type": "stream",
     "text": [
      "C:\\Users\\noneo\\Anaconda3\\lib\\site-packages\\ipykernel_launcher.py:13: SettingWithCopyWarning: \n",
      "A value is trying to be set on a copy of a slice from a DataFrame.\n",
      "Try using .loc[row_indexer,col_indexer] = value instead\n",
      "\n",
      "See the caveats in the documentation: http://pandas.pydata.org/pandas-docs/stable/indexing.html#indexing-view-versus-copy\n",
      "  del sys.path[0]\n"
     ]
    },
    {
     "data": {
      "text/html": [
       "<div>\n",
       "<style scoped>\n",
       "    .dataframe tbody tr th:only-of-type {\n",
       "        vertical-align: middle;\n",
       "    }\n",
       "\n",
       "    .dataframe tbody tr th {\n",
       "        vertical-align: top;\n",
       "    }\n",
       "\n",
       "    .dataframe thead th {\n",
       "        text-align: right;\n",
       "    }\n",
       "</style>\n",
       "<table border=\"1\" class=\"dataframe\">\n",
       "  <thead>\n",
       "    <tr style=\"text-align: right;\">\n",
       "      <th></th>\n",
       "      <th>text</th>\n",
       "      <th>author</th>\n",
       "      <th>likes</th>\n",
       "    </tr>\n",
       "  </thead>\n",
       "  <tbody>\n",
       "    <tr>\n",
       "      <th>0</th>\n",
       "      <td>Don't cry because it's over, smile because it ...</td>\n",
       "      <td>Dr. Seuss</td>\n",
       "      <td>174616 likes</td>\n",
       "    </tr>\n",
       "    <tr>\n",
       "      <th>1</th>\n",
       "      <td>I'm selfish, impatient and a little insecure. ...</td>\n",
       "      <td>Marilyn Monroe</td>\n",
       "      <td>138415 likes</td>\n",
       "    </tr>\n",
       "    <tr>\n",
       "      <th>2</th>\n",
       "      <td>Be yourself; everyone else is already taken.</td>\n",
       "      <td>Oscar Wilde</td>\n",
       "      <td>130176 likes</td>\n",
       "    </tr>\n",
       "    <tr>\n",
       "      <th>3</th>\n",
       "      <td>Two things are infinite: the universe and huma...</td>\n",
       "      <td>Albert Einstein</td>\n",
       "      <td>116961 likes</td>\n",
       "    </tr>\n",
       "    <tr>\n",
       "      <th>4</th>\n",
       "      <td>Be who you are and say what you feel, because ...</td>\n",
       "      <td>Bernard M. Baruch</td>\n",
       "      <td>111385 likes</td>\n",
       "    </tr>\n",
       "  </tbody>\n",
       "</table>\n",
       "</div>"
      ],
      "text/plain": [
       "                                                text             author  \\\n",
       "0  Don't cry because it's over, smile because it ...          Dr. Seuss   \n",
       "1  I'm selfish, impatient and a little insecure. ...     Marilyn Monroe   \n",
       "2       Be yourself; everyone else is already taken.        Oscar Wilde   \n",
       "3  Two things are infinite: the universe and huma...    Albert Einstein   \n",
       "4  Be who you are and say what you feel, because ...  Bernard M. Baruch   \n",
       "\n",
       "          likes  \n",
       "0  174616 likes  \n",
       "1  138415 likes  \n",
       "2  130176 likes  \n",
       "3  116961 likes  \n",
       "4  111385 likes  "
      ]
     },
     "execution_count": 4,
     "metadata": {},
     "output_type": "execute_result"
    }
   ],
   "source": [
    "#Clean the quotes\n",
    "\n",
    "#function for cleaning quotes from \"\" and \\n and spaces\n",
    "def cleanupquotes(quote):\n",
    "    quote1 = quote\n",
    "    quote2 =quote1.replace(\"\\n\",\"\")\n",
    "    quote3 = quote2.replace(\"“\",\"\")\n",
    "    quote4 = quote3.replace(\"”\",\"\")\n",
    "    quote5 = quote4.replace(\"  \",\"\")\n",
    "    return quote5\n",
    "\n",
    "#Cleaning up the quotes and placing them as text\n",
    "quotesclean[\"text\"] = quotesclean[\"text\"].apply(cleanupquotes)\n",
    "quotesclean.head()"
   ]
  },
  {
   "cell_type": "code",
   "execution_count": 5,
   "metadata": {},
   "outputs": [],
   "source": [
    "#Organizes the quotes by number of likes in descending order\n",
    "quotesclean.sort_values(by=\"likes\",ascending = False)\n",
    "#keeps the most popular quote from each author\n",
    "quotesclean = quotesclean.drop_duplicates(\"author\",keep=\"first\")\n",
    "\n",
    "#Drops rows with any blanks (either quotes, authors or likes)\n",
    "quotesclean = quotesclean.dropna()\n"
   ]
  },
  {
   "cell_type": "code",
   "execution_count": 6,
   "metadata": {},
   "outputs": [],
   "source": [
    "quotesclean.to_csv(\"quotesclean.csv\", index=False)"
   ]
  },
  {
   "cell_type": "code",
   "execution_count": null,
   "metadata": {},
   "outputs": [],
   "source": []
  }
 ],
 "metadata": {
  "kernelspec": {
   "display_name": "Python 3",
   "language": "python",
   "name": "python3"
  },
  "language_info": {
   "codemirror_mode": {
    "name": "ipython",
    "version": 3
   },
   "file_extension": ".py",
   "mimetype": "text/x-python",
   "name": "python",
   "nbconvert_exporter": "python",
   "pygments_lexer": "ipython3",
   "version": "3.7.0"
  }
 },
 "nbformat": 4,
 "nbformat_minor": 2
}
